{
  "nbformat": 4,
  "nbformat_minor": 0,
  "metadata": {
    "colab": {
      "name": "Watermark Generator",
      "provenance": []
    },
    "kernelspec": {
      "name": "python3",
      "display_name": "Python 3"
    },
    "language_info": {
      "name": "python"
    }
  },
  "cells": [
    {
      "cell_type": "code",
      "execution_count": null,
      "metadata": {
        "id": "4RM3dOndaHMF"
      },
      "outputs": [],
      "source": [
        "# Including OpenCV and Library\n",
        "import cv2\n",
        "import random\n",
        "import numpy as np"
      ]
    },
    {
      "cell_type": "code",
      "source": [
        "# Initialising the width and height of the original image and the watermark\n",
        "IMG_WIDTH = 1200\n",
        "IMG_HEIGHT = 800\n",
        "WATERMARK_WIDTH = 256\n",
        "WATERMARK_HEIGHT = 256"
      ],
      "metadata": {
        "id": "sgaEYZIsbvBI"
      },
      "execution_count": null,
      "outputs": []
    },
    {
      "cell_type": "code",
      "source": [
        "# Total size of the original image and the watermark\n",
        "IMG_SIZE = IMG_HEIGHT * IMG_WIDTH\n",
        "WATERMARK_SIZE = WATERMARK_HEIGHT * WATERMARK_WIDTH"
      ],
      "metadata": {
        "id": "TOAEYZ5kbxvm"
      },
      "execution_count": null,
      "outputs": []
    },
    {
      "cell_type": "code",
      "source": [
        "# Key and the thresh\n",
        "KEY = 1001\n",
        "THRESH = 75"
      ],
      "metadata": {
        "id": "HjK2VbBubzsW"
      },
      "execution_count": null,
      "outputs": []
    },
    {
      "cell_type": "code",
      "source": [
        "# Assigning XOR of x and y as true and false for value of true equals 255 and false equals 0\n",
        "def xor(x ,y):\n",
        "    if x == 0 and y == 0:\n",
        "        return 0\n",
        "    elif x == 0 and y != 0:\n",
        "        return 255\n",
        "    elif x != 0 and y == 0:\n",
        "        return 255\n",
        "    elif x !=0 and y != 0:\n",
        "        return 0"
      ],
      "metadata": {
        "id": "dMbT9bjRlchf"
      },
      "execution_count": null,
      "outputs": []
    },
    {
      "cell_type": "code",
      "source": [
        "# Taking random points out of the total sample\n",
        "random.seed(a=KEY)\n",
        "random_points = random.sample(range(IMG_SIZE), WATERMARK_SIZE)"
      ],
      "metadata": {
        "id": "IUfg5xZab8pC"
      },
      "execution_count": null,
      "outputs": []
    },
    {
      "cell_type": "code",
      "source": [
        "# Reading the owner_img.jpg file\n",
        "owner_img = cv2.imread('owner_img.jpg', 0)"
      ],
      "metadata": {
        "id": "lnmUO3ZBp4Os"
      },
      "execution_count": null,
      "outputs": []
    },
    {
      "cell_type": "code",
      "source": [
        "for k in range(0, 7):\n",
        "    master_img = cv2.imread('master_img_'+str(k)+'.jpg', 0)\n",
        "    watermark_img = np.zeros((WATERMARK_WIDTH, WATERMARK_HEIGHT, 1), np.uint8)\n",
        "\n",
        "    i = 0\n",
        "    j = 0\n",
        "\n",
        "    for i in range(0, WATERMARK_HEIGHT):\n",
        "        for j in range(0, WATERMARK_WIDTH):\n",
        "            watermark_img[i, j] = xor(master_img[i, j], owner_img[i, j])\n",
        "\n",
        "    watermark_img = (255-watermark_img)\n",
        "    kernel = np.ones((4,4),np.uint8)\n",
        "    watermark_img = cv2.medianBlur(watermark_img, 3)\n",
        "    watermark_img = cv2.morphologyEx(watermark_img, cv2.MORPH_OPEN, kernel)\n",
        "    watermark_img = cv2.morphologyEx(watermark_img, cv2.MORPH_CLOSE, kernel)\n",
        "    watermark_img = (255-watermark_img)\n",
        "\n",
        "    cv2.imwrite('watermark_img_'+str(k)+'.jpg', watermark_img)\n",
        "    print (k)\n",
        "print (\"Done\")"
      ],
      "metadata": {
        "colab": {
          "base_uri": "https://localhost:8080/"
        },
        "id": "fzegrmaxp5dH",
        "outputId": "ddd54453-5307-40f8-e747-03dd6a7f3644"
      },
      "execution_count": null,
      "outputs": [
        {
          "output_type": "stream",
          "name": "stdout",
          "text": [
            "0\n",
            "1\n",
            "2\n",
            "3\n",
            "4\n",
            "5\n",
            "6\n",
            "Done\n"
          ]
        }
      ]
    }
  ]
}