{
  "nbformat": 4,
  "nbformat_minor": 0,
  "metadata": {
    "colab": {
      "name": "Master Share Generator",
      "provenance": []
    },
    "kernelspec": {
      "name": "python3",
      "display_name": "Python 3"
    },
    "language_info": {
      "name": "python"
    }
  },
  "cells": [
    {
      "cell_type": "code",
      "execution_count": null,
      "metadata": {
        "id": "4RM3dOndaHMF"
      },
      "outputs": [],
      "source": [
        "# Including OpenCV and Library\n",
        "import cv2\n",
        "import random\n",
        "import numpy as np"
      ]
    },
    {
      "cell_type": "code",
      "source": [
        "# Initialising the width and height of the original image and the watermark\n",
        "IMG_WIDTH = 1200\n",
        "IMG_HEIGHT = 800\n",
        "WATERMARK_WIDTH = 256\n",
        "WATERMARK_HEIGHT = 256"
      ],
      "metadata": {
        "id": "sgaEYZIsbvBI"
      },
      "execution_count": null,
      "outputs": []
    },
    {
      "cell_type": "code",
      "source": [
        "# Total size of the original image and the watermark\n",
        "IMG_SIZE = IMG_HEIGHT * IMG_WIDTH\n",
        "WATERMARK_SIZE = WATERMARK_HEIGHT * WATERMARK_WIDTH"
      ],
      "metadata": {
        "id": "TOAEYZ5kbxvm"
      },
      "execution_count": null,
      "outputs": []
    },
    {
      "cell_type": "code",
      "source": [
        "# Key and the thresh\n",
        "KEY = 1001\n",
        "THRESH = 75"
      ],
      "metadata": {
        "id": "HjK2VbBubzsW"
      },
      "execution_count": null,
      "outputs": []
    },
    {
      "cell_type": "code",
      "source": [
        "# Calculating the mean value of a particular and all its possible (at max 8) neighbors\n",
        "def mean_neighbour(img, x, y):\n",
        "    val = 0\n",
        "    num = 0\n",
        "    i = x\n",
        "    j = y\n",
        "    if i >= 0 and i < IMG_HEIGHT and j >= 0 and j < IMG_WIDTH:\n",
        "        val += img[i, j]\n",
        "        num += 1\n",
        "    i = x + 1\n",
        "    j = y + 1\n",
        "    if i >= 0 and i < IMG_HEIGHT and j >= 0 and j < IMG_WIDTH:\n",
        "        val += img[i, j]\n",
        "        num += 1\n",
        "    i = x - 1\n",
        "    j = y - 1\n",
        "    if i >= 0 and i < IMG_HEIGHT and j >= 0 and j < IMG_WIDTH:\n",
        "        val += img[i, j]\n",
        "        num += 1\n",
        "    i = x + 1\n",
        "    j = y\n",
        "    if i >= 0 and i < IMG_HEIGHT and j >= 0 and j < IMG_WIDTH:\n",
        "        val += img[i, j]\n",
        "        num += 1\n",
        "    i = x\n",
        "    j = y + 1\n",
        "    if i >= 0 and i < IMG_HEIGHT and j >= 0 and j < IMG_WIDTH:\n",
        "        val += img[i, j]\n",
        "        num += 1\n",
        "    i = x + 1\n",
        "    j = y - 1\n",
        "    if i >= 0 and i < IMG_HEIGHT and j >= 0 and j < IMG_WIDTH:\n",
        "        val += img[i, j]\n",
        "        num += 1\n",
        "    i = x - 1\n",
        "    j = y + 1\n",
        "    if i >= 0 and i < IMG_HEIGHT and j >= 0 and j < IMG_WIDTH:\n",
        "        val += img[i, j]\n",
        "        num += 1\n",
        "    i = x - 1\n",
        "    j = y\n",
        "    if i >= 0 and i < IMG_HEIGHT and j >= 0 and j < IMG_WIDTH:\n",
        "        val += img[i, j]\n",
        "        num += 1\n",
        "    i = x\n",
        "    j = y - 1\n",
        "    if i >= 0 and i < IMG_HEIGHT and j >= 0 and j < IMG_WIDTH:\n",
        "        val += img[i, j]\n",
        "        num += 1\n",
        "    \n",
        "    return val/float(num)"
      ],
      "metadata": {
        "id": "3cA-vyRKb14b"
      },
      "execution_count": null,
      "outputs": []
    },
    {
      "cell_type": "code",
      "source": [
        "# Taking random points out of the total sample\n",
        "random.seed(a=KEY)\n",
        "random_points = random.sample(range(IMG_SIZE), WATERMARK_SIZE)"
      ],
      "metadata": {
        "id": "IUfg5xZab8pC"
      },
      "execution_count": null,
      "outputs": []
    },
    {
      "cell_type": "code",
      "source": [
        "# Creating watermark by mean_neighbour for random points in the original image\n",
        "for cnt in range(0, 7):\n",
        "    og_img = cv2.imread('stolen_images/stolen_image_'+str(cnt)+'.jpg',0)\n",
        "\n",
        "    master_img = np.zeros((WATERMARK_WIDTH, WATERMARK_HEIGHT, 1), np.uint8)\n",
        "\n",
        "\n",
        "    i = 0\n",
        "    j = 0\n",
        "\n",
        "    for k in random_points:\n",
        "        x = k // IMG_WIDTH\n",
        "        y = k % IMG_WIDTH\n",
        "        if mean_neighbour(og_img, x, y) > THRESH:\n",
        "            master_img[i,j] = 255\n",
        "        j += 1\n",
        "        if j == 256:\n",
        "            j = 0\n",
        "            i += 1\n",
        "\n",
        "    cv2.imwrite('master_img_'+str(cnt)+'.jpg', master_img)\n",
        "    print (cnt)\n",
        "print (\"Done\")"
      ],
      "metadata": {
        "colab": {
          "base_uri": "https://localhost:8080/"
        },
        "id": "DQKoyWRDb-76",
        "outputId": "b6620836-732e-45d5-977d-f93dbaff4dcd"
      },
      "execution_count": null,
      "outputs": [
        {
          "output_type": "stream",
          "name": "stdout",
          "text": [
            "0\n",
            "1\n",
            "2\n",
            "3\n",
            "4\n",
            "5\n",
            "6\n",
            "Done\n"
          ]
        }
      ]
    }
  ]
}