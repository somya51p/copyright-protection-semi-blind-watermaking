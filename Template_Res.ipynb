{
  "nbformat": 4,
  "nbformat_minor": 0,
  "metadata": {
    "colab": {
      "name": "Template Match Res",
      "provenance": []
    },
    "kernelspec": {
      "name": "python3",
      "display_name": "Python 3"
    },
    "language_info": {
      "name": "python"
    }
  },
  "cells": [
    {
      "cell_type": "code",
      "source": [
        "# Including OpenCV and Library\n",
        "import cv2\n",
        "import numpy as np"
      ],
      "metadata": {
        "id": "iaqveOEhpTxa"
      },
      "execution_count": null,
      "outputs": []
    },
    {
      "cell_type": "code",
      "source": [
        "# Reading the watermark.jpg file\n",
        "template = cv2.imread('watermark.jpg', 0)"
      ],
      "metadata": {
        "id": "l5de_2OipViE"
      },
      "execution_count": null,
      "outputs": []
    },
    {
      "cell_type": "code",
      "source": [
        "for k in range(0, 7):\n",
        "    img_gray = cv2.imread('watermark_img_'+str(k)+'.jpg', 0)\n",
        "    res = cv2.matchTemplate(img_gray,template,cv2.TM_CCOEFF_NORMED)\n",
        "    print (res)"
      ],
      "metadata": {
        "colab": {
          "base_uri": "https://localhost:8080/"
        },
        "id": "eV6mOpB-pXUh",
        "outputId": "3e06d4a7-bbb5-42a3-b832-5e77e2d2c963"
      },
      "execution_count": null,
      "outputs": [
        {
          "output_type": "stream",
          "name": "stdout",
          "text": [
            "[[0.862861]]\n",
            "[[0.862861]]\n",
            "[[0.8596748]]\n",
            "[[0.7754285]]\n",
            "[[0.8586598]]\n",
            "[[0.8667618]]\n",
            "[[0.8598946]]\n"
          ]
        }
      ]
    }
  ]
}